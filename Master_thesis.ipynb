{
 "cells": [
  {
   "cell_type": "markdown",
   "metadata": {},
   "source": [
    "# Declaration"
   ]
  },
  {
   "cell_type": "markdown",
   "metadata": {},
   "source": [
    "## Declaration of variables and used libraries"
   ]
  },
  {
   "cell_type": "code",
   "execution_count": 7,
   "metadata": {},
   "outputs": [],
   "source": [
    "%matplotlib inline\n",
    "import matplotlib\n",
    "import numpy as np\n",
    "import pandas as pd\n",
    "import os\n",
    "from PIL import Image  ### conda install pillow  \n",
    "import matplotlib.pyplot as plt\n",
    "from itertools import chain\n",
    "\n",
    "import pymrmr\n",
    "import IPython\n",
    "from IPython.core.debugger import set_trace\n",
    "from sklearn import preprocessing\n",
    "from sklearn.discriminant_analysis import LinearDiscriminantAnalysis\n",
    "import SimpleITK as sitk\n",
    "from medpy.io import load\n",
    "from radiomics import featureextractor\n",
    "from sklearn.linear_model import Lasso\n",
    "# import PyWavelets\n",
    "\n",
    "from sklearn.model_selection import train_test_split\n",
    "from sklearn.preprocessing import StandardScaler\n",
    "from sklearn.ensemble import RandomForestClassifier\n",
    "from sklearn.ensemble import ExtraTreesClassifier\n",
    "from sklearn.metrics import classification_report, confusion_matrix, accuracy_score\n",
    "from sklearn.model_selection import cross_val_score\n",
    "from sklearn.metrics import roc_auc_score\n",
    "import re\n",
    "\n",
    "\n",
    "import Dclr_of_class_variables as DCV\n",
    "import Dclr_of_functions as DF"
   ]
  },
  {
   "cell_type": "markdown",
   "metadata": {},
   "source": [
    "# Master Thesis\n",
    "\n",
    "https://www.ncbi.nlm.nih.gov/pmc/articles/PMC6252243/\n",
    "\n",
    "This thesis deals with a classification of glioma grade in high and low agressive tumours. For calculating features is used special radiomics library called PyRadiomics. Goal of this work is calculate all the features from PyRadiomics from different weightening sequence of MRI, then select the best features and choose a best classifier, that will provide the glioma grade. Another important task of this thesis is survival prediction - predicting number of days or years that the patient will survive after GTR-Gross Rotal Resection."
   ]
  },
  {
   "cell_type": "markdown",
   "metadata": {},
   "source": [
    "## Image import and ROI creation\n",
    "In order to properly calculate features for classification of gliomas, the new mask-files were created that represented specific regions in tumours - regions of interest(ROI)\n",
    "The first ROI was created  by merging the non-enhancing tumor and necrotic region\n",
    "The second ROI was created by adding the tumor region with enhancememnt to the first region\n",
    "The third ROI combined the second region with the area of edema\n",
    "Using various ROI should help to distinguish the largely varying parts of tumour between grades\n"
   ]
  },
  {
   "cell_type": "code",
   "execution_count": 34,
   "metadata": {},
   "outputs": [
    {
     "name": "stdout",
     "output_type": "stream",
     "text": [
      "Succesful\n"
     ]
    }
   ],
   "source": [
    "BRATS=DF.Create_Image_repository();\n",
    "print('Succesful')"
   ]
  },
  {
   "cell_type": "code",
   "execution_count": 35,
   "metadata": {},
   "outputs": [
    {
     "name": "stdout",
     "output_type": "stream",
     "text": [
      "Succesful\n"
     ]
    }
   ],
   "source": [
    "DF.Create_ROI(BRATS);\n",
    "print('Succesful')"
   ]
  },
  {
   "cell_type": "markdown",
   "metadata": {},
   "source": [
    "## Radiomics\n",
    "The histogram-based features were computed from 128 bin histogram computed over the whole intensity range. \n",
    "The shape descriptors are not correlated features from radionomics library as Sphericity,Major Axis Length,Flatness...\n",
    "The texture based descriptors are calculated from given matrixes:GLCM,GLSZM,GLRLM,NGTDM,GLDM."
   ]
  },
  {
   "cell_type": "code",
   "execution_count": 36,
   "metadata": {},
   "outputs": [
    {
     "name": "stderr",
     "output_type": "stream",
     "text": [
      "Fixed bin Count enabled! However, we recommend using a fixed bin Width. See http://pyradiomics.readthedocs.io/en/latest/faq.html#radiomics-fixed-bin-width for more details\n"
     ]
    },
    {
     "name": "stdout",
     "output_type": "stream",
     "text": [
      "ROI_I finished\n",
      "ROI_II finished\n",
      "ROI_III finished\n"
     ]
    }
   ],
   "source": [
    "extractor2=featureextractor.RadiomicsFeatureExtractor('D:/data/testovanie.yaml')\n",
    "result_HGG_I=DF.Radionomics_structure(extractor2,BRATS,'ROI_I.nii.gz','HGG')\n",
    "result_LGG_I=DF.Radionomics_structure(extractor2,BRATS,'ROI_I.nii.gz','LGG')\n",
    "print('ROI_I finished')\n",
    "result_HGG_II=DF.Radionomics_structure(extractor2,BRATS,'ROI_II.nii.gz','HGG')\n",
    "result_LGG_II=DF.Radionomics_structure(extractor2,BRATS,'ROI_II.nii.gz','LGG')\n",
    "print('ROI_II finished')\n",
    "result_HGG_III=DF.Radionomics_structure(extractor2,BRATS,'ROI_III.nii.gz','HGG')\n",
    "result_LGG_III=DF.Radionomics_structure(extractor2,BRATS,'ROI_III.nii.gz','LGG')\n",
    "print('ROI_III finished')"
   ]
  },
  {
   "cell_type": "markdown",
   "metadata": {},
   "source": [
    "##  Z-score normalization and saving/reading CSV file\n",
    "Feature values of the training cohort were normalized to z-scores for each feature across subjects as the different radiomics features have different units and range.\n",
    "Now is necessary to divide samples in two classes- LG and HG and save them. \n",
    "As the calculation of features is computationally expensive is better to save the features after calculation as csv file and than, while tuning the algorithm, read features from csv."
   ]
  },
  {
   "cell_type": "code",
   "execution_count": null,
   "metadata": {},
   "outputs": [],
   "source": [
    "if not os.path.exists(DCV.newpath):\n",
    "    os.makedirs(DCV.newpath)\n",
    "    \n",
    "count=0\n",
    "for ROI_name in range(0,len(DCV.List_of_ROI_names)-1,2):\n",
    "    DF.Saving_normalized_CSV(eval(DCV.List_of_ROI_names[ROI_name]),eval(DCV.List_of_ROI_names[ROI_name+1]),DCV.ROI_list[count])\n",
    "    count=count+1"
   ]
  },
  {
   "cell_type": "code",
   "execution_count": 43,
   "metadata": {},
   "outputs": [],
   "source": [
    "folder=os.listdir(DCV.newpath)\n",
    "    \n",
    "ROI_I= pd.read_csv(DF.Add_folder(DCV.newpath,folder[0]),header=[0,1])\n",
    "ROI_II= pd.read_csv(DF.Add_folder(DCV.newpath,folder[1]),header=[0,1])\n",
    "ROI_III= pd.read_csv(DF.Add_folder(DCV.newpath,folder[2]),header=[0,1])\n",
    "target=ROI_I.iloc[:,0]\n",
    "No_HG=target.value_counts()[1]\n",
    "\n",
    "if 'BRATS' not in globals():\n",
    "    BRATS=DF.Create_Image_repository();"
   ]
  },
  {
   "cell_type": "markdown",
   "metadata": {},
   "source": [
    "## Vyobrazenie parametrov\n",
    "The  random forest with gini impurity was used to select features useful for classifying glioma grades in the training cohort. In this moment for classification are used features calculated only from ROI I"
   ]
  },
  {
   "cell_type": "code",
   "execution_count": 46,
   "metadata": {},
   "outputs": [
    {
     "data": {
      "image/png": "[encoded data removed]",
      "text/plain": [
       "<Figure size 432x288 with 1 Axes>"
      ]
     },
     "metadata": {
      "needs_background": "light"
     },
     "output_type": "display_data"
    }
   ],
   "source": [
    "model = ExtraTreesClassifier(n_estimators=2000,criterion='gini')\n",
    "model.fit(ROI_I.iloc[:,1:21], target)\n",
    "importances = model.feature_importances_\n",
    "\n",
    "indic = np.argsort(importances)[::-1]\n",
    "ticks=DF.Create_ticks(ROI_I,indic)\n",
    "pom=importances[indic]\n",
    "indices=pom[0:5]\n",
    "plt.figure()\n",
    "plt.title(\"Selected features for ROI I \")\n",
    "plt.bar(np.arange(5), indices,color=\"r\")\n",
    "plt.xticks(np.arange(5),(ticks))\n",
    "plt.xlim([-1,5])\n",
    "plt.xlabel(\"Selected features ROI I\")\n",
    "plt.ylabel(\"Score\")\n",
    "\n",
    "plt.savefig('Selected_features_ROI_I.svg')\n",
    "plt.show()\n",
    "\n",
    "number_of_selected_features=7\n",
    "Indices=indic[0:number_of_selected_features]+1"
   ]
  },
  {
   "cell_type": "code",
   "execution_count": 198,
   "metadata": {
    "scrolled": true
   },
   "outputs": [
    {
     "data": {
      "image/png": "[encoded data removed]",
      "text/plain": [
       "<Figure size 432x288 with 1 Axes>"
      ]
     },
     "metadata": {
      "needs_background": "light"
     },
     "output_type": "display_data"
    }
   ],
   "source": [
    "plt.scatter(ROI_I.iloc[:,Indices[0]].values,ROI_I.iloc[:,Indices[1]].values,c=ROI_I.iloc[:,Indices[1]].axes[0])\n",
    "plt.title(\"Data representation  \\n based on two most important attributes\")\n",
    "plt.xlabel(ticks[0])\n",
    "plt.ylabel(ticks[1])\n",
    "plt.savefig('graph_ROI_I.svg')\n",
    "plt.show()\n"
   ]
  },
  {
   "cell_type": "markdown",
   "metadata": {},
   "source": [
    "## Training\n",
    "According to information provided in multiple scientific articles dedicated to problem of automatic glioma grading, the best classifier for this task is random forest, as there are not enough data to train neural network.\n",
    "To correctly evaluate classification, the accuracy in training cohort is calculated and then, using k-fold cross validation, the accuracy of testing cohort. "
   ]
  },
  {
   "cell_type": "code",
   "execution_count": 47,
   "metadata": {},
   "outputs": [],
   "source": [
    "\n",
    "X_train, X_test, y_train, y_test,idx1,idx2 = train_test_split(ROI_I.iloc[:,Indices],target,np.arange(len(target)), test_size=0.3)\n"
   ]
  },
  {
   "cell_type": "code",
   "execution_count": 51,
   "metadata": {},
   "outputs": [
    {
     "name": "stdout",
     "output_type": "stream",
     "text": [
      "Accuracy of training cohort: 1.0\n",
      "Confusion Matrix: [[19 11]\n",
      " [ 3 68]]\n",
      "Area under curve for random forest: 0.9204225352112676\n",
      "Accuracy_score of testing cohort: 0.8613861386138614\n",
      "Cross_val_accuracy: 0.8804812834224599\n"
     ]
    }
   ],
   "source": [
    "\n",
    "clasifier= RandomForestClassifier(n_estimators=200,bootstrap = True,)\n",
    "clasifier.fit(X_train, y_train)\n",
    "print(f'Accuracy of training cohort: {clasifier.score(X_train, y_train)}')\n",
    "\n",
    "y_pred = clasifier.predict(X_test)\n",
    "rf_probs = clasifier.predict_proba(X_test)[:, 1]\n",
    "\n",
    "print(f'Confusion Matrix: {confusion_matrix(y_test,y_pred)}')\n",
    "print(f'Area under curve for random forest: {roc_auc_score(y_test, rf_probs)}')\n",
    "print(f'Accuracy_score of testing cohort: {accuracy_score(y_test, y_pred)}')\n",
    "\n",
    "scores = cross_val_score(clasifier,ROI_I.iloc[:,Indices],target,cv=10)\n",
    "print(f'Cross_val_accuracy: {np.mean(scores)}')"
   ]
  },
  {
   "cell_type": "code",
   "execution_count": 52,
   "metadata": {},
   "outputs": [
    {
     "name": "stdout",
     "output_type": "stream",
     "text": [
      "[0.85294118 0.94117647 0.88235294 0.88235294 0.88235294 0.78787879\n",
      " 0.90909091 0.84848485 0.87878788 0.93939394]\n"
     ]
    }
   ],
   "source": [
    "print(scores)"
   ]
  },
  {
   "cell_type": "markdown",
   "metadata": {},
   "source": [
    "## Errors evaluation\n",
    "Detailed analysis of incorectly clasified samples is performed in different open-source software as ImageJ or VV4\n"
   ]
  },
  {
   "cell_type": "code",
   "execution_count": 53,
   "metadata": {},
   "outputs": [
    {
     "name": "stdout",
     "output_type": "stream",
     "text": [
      "Missclasified: [310 314 271 324 175 106 303 301   1 333 276 296 293 284]\n"
     ]
    }
   ],
   "source": [
    "y = 0 \n",
    "Output = []  \n",
    "for x in y_pred: \n",
    "    if x != y_test.values[y]: \n",
    "        Output.append(y) \n",
    "    y = y + 1\n",
    "print(f'Missclasified: {idx2[Output]}')"
   ]
  },
  {
   "cell_type": "code",
   "execution_count": 54,
   "metadata": {},
   "outputs": [
    {
     "name": "stdout",
     "output_type": "stream",
     "text": [
      "Missclasified LGG: [49, 53, 10, 63, 42, 40, 72, 15, 35, 32, 23]\n",
      "Missclasified HGG: [175, 106, 1]\n"
     ]
    }
   ],
   "source": [
    "misclass_LGG=[]\n",
    "misclass_HGG=[]\n",
    "for x in idx2[Output]:\n",
    "    if (No_HG-1)< x:\n",
    "         misclass_LGG.append(x-No_HG-1)\n",
    "    else :\n",
    "        misclass_HGG.append(x)\n",
    "print(f'Missclasified LGG: {misclass_LGG}')\n",
    "print(f'Missclasified HGG: {misclass_HGG}')"
   ]
  },
  {
   "cell_type": "code",
   "execution_count": 55,
   "metadata": {},
   "outputs": [
    {
     "name": "stdout",
     "output_type": "stream",
     "text": [
      "BAD HGG IMAGE\n",
      "Brats18_2013_11_1\n",
      "Brats18_CBICA_AXO_1\n",
      "Brats18_TCIA02_151_1\n",
      "BAD LGG IMAGE\n",
      "Brats18_TCIA09_141_1\n",
      "Brats18_TCIA09_402_1\n",
      "Brats18_TCIA10_130_1\n",
      "Brats18_TCIA10_299_1\n",
      "Brats18_TCIA10_325_1\n",
      "Brats18_TCIA10_393_1\n",
      "Brats18_TCIA10_410_1\n",
      "Brats18_TCIA10_628_1\n",
      "Brats18_TCIA10_639_1\n",
      "Brats18_TCIA13_618_1\n",
      "Brats18_TCIA13_650_1\n"
     ]
    }
   ],
   "source": [
    "print('BAD HGG IMAGE')\n",
    "for bad_HGG_image in range(No_HG):\n",
    "    if bad_HGG_image in misclass_HGG:\n",
    "        print(BRATS[0].type[0].grade[bad_HGG_image].foldername)\n",
    "        \n",
    "        \n",
    "print('BAD LGG IMAGE')\n",
    "for bad_LGG_image in range(No_HG):\n",
    "    if bad_LGG_image in misclass_LGG:\n",
    "        print(BRATS[0].type[1].grade[bad_LGG_image].foldername)"
   ]
  },
  {
   "cell_type": "markdown",
   "metadata": {},
   "source": [
    "# Survival prediction\n",
    "All patients in this dataset died in scope of few years except 2 subjects. The goal is to estimate number of years this subjects have based on age and calculated radiomic features.\n",
    "One type of analysis is classifying subject in three groups based on numbers of years they lived after being diagnosed with GBM - Glioblastoma multiforme.\n",
    "Second type of analysis will be prediction values."
   ]
  },
  {
   "cell_type": "markdown",
   "metadata": {},
   "source": [
    "##  Classification according to number of years\n",
    "Separation of data into 3 classes and joining two different datasets in order to combine given and calculated information are necessary steps in preprocessing data for classification."
   ]
  },
  {
   "cell_type": "code",
   "execution_count": 56,
   "metadata": {},
   "outputs": [],
   "source": [
    "survival_table = pd.read_csv(\"D:\\\\Data\\\\Nove_datasety\\\\Survival_data\\\\survival_data.csv\",sep=',',converters={\"Survival\" : lambda x: 0 if x == \"NA\" else int(x)},index_col =\"ResectionStatus\")\n",
    "valid_survivors=survival_table.loc[\"GTR\"] \n",
    "survival_class=[]\n",
    "\n",
    "for j in range(len(valid_survivors)):\n",
    "    if valid_survivors.Survival.iloc[j] <=365:\n",
    "        survival_class.append(0) # less than 1 year\n",
    "    if (valid_survivors.Survival.iloc[j] >365 and valid_survivors.Survival.iloc[j]<=365*2):\n",
    "        survival_class.append(1) # less than 2 year but more than 1 year\n",
    "    if valid_survivors.Survival.iloc[j] >365*2:\n",
    "        survival_class.append(2) # more than 3 year\n",
    "\n"
   ]
  },
  {
   "cell_type": "code",
   "execution_count": 57,
   "metadata": {},
   "outputs": [],
   "source": [
    "newDF = pd.DataFrame(columns=ROI_I.columns[Indices].values, index=valid_survivors.Brats18ID.values)\n",
    "\n",
    "for j in range(len(BRATS[0].type[0].grade)):\n",
    "    if BRATS[1].type[0].grade[j].foldername in valid_survivors.Brats18ID.values:\n",
    "        newDF.loc[BRATS[1].type[0].grade[j].foldername] = ROI_I.iloc[j,Indices].values\n",
    "\n",
    "survivors_table=valid_survivors.set_index('Brats18ID').join(newDF);"
   ]
  },
  {
   "cell_type": "code",
   "execution_count": 58,
   "metadata": {},
   "outputs": [
    {
     "name": "stdout",
     "output_type": "stream",
     "text": [
      "Accuracy of training cohort: 1.0\n",
      "Confusion Matrix: [[16  0  0]\n",
      " [ 0 13  0]\n",
      " [ 0  1  2]]\n",
      "Accuracy_score of testing cohort: 0.96875\n",
      "Cross_val_accuracy: 0.9708589655958078\n"
     ]
    }
   ],
   "source": [
    "X_train, X_test, y_train, y_test = train_test_split(survivors_table.values,survival_class,test_size=0.3)\n",
    "clasifier= RandomForestClassifier(n_estimators=200,bootstrap = True,)\n",
    "clasifier.fit(X_train, y_train)\n",
    "print(f'Accuracy of training cohort: {clasifier.score(X_train, y_train)}')\n",
    "\n",
    "y_pred = clasifier.predict(X_test)\n",
    "rf_probs = clasifier.predict_proba(X_test)[:, 1]\n",
    "\n",
    "print(f'Confusion Matrix: {confusion_matrix(y_test,y_pred)}')\n",
    "print(f'Accuracy_score of testing cohort: {accuracy_score(y_test, y_pred)}')\n",
    "\n",
    "scores = cross_val_score(clasifier,survivors_table.values,survival_class,cv=5)\n",
    "print(f'Cross_val_accuracy: {np.mean(scores)}')"
   ]
  },
  {
   "cell_type": "markdown",
   "metadata": {},
   "source": [
    "## Regresion\n",
    "As we have too little subject for accurate regresion, we have to regularization to obtain correct results."
   ]
  },
  {
   "cell_type": "code",
   "execution_count": 62,
   "metadata": {
    "scrolled": true
   },
   "outputs": [
    {
     "name": "stdout",
     "output_type": "stream",
     "text": [
      "RMS: 0.26407783680148583\n"
     ]
    }
   ],
   "source": [
    "alpha=1\n",
    "regr=Lasso(alpha)\n",
    "regr.fit(X_train,y_train)\n",
    "pred=regr.predict(X_test) #predikovany y\n",
    "w=regr.coef_\n",
    "print(f'RMS: {np.sqrt(np.mean((y_test-pred)**2))}')"
   ]
  },
  {
   "cell_type": "code",
   "execution_count": null,
   "metadata": {},
   "outputs": [],
   "source": []
  }
 ],
 "metadata": {
  "kernelspec": {
   "display_name": "Python 3",
   "language": "python",
   "name": "python3"
  },
  "language_info": {
   "codemirror_mode": {
    "name": "ipython",
    "version": 3
   },
   "file_extension": ".py",
   "mimetype": "text/x-python",
   "name": "python",
   "nbconvert_exporter": "python",
   "pygments_lexer": "ipython3",
   "version": "3.7.3"
  },
  "varInspector": {
   "cols": {
    "lenName": 16,
    "lenType": 16,
    "lenVar": 40
   },
   "kernels_config": {
    "python": {
     "delete_cmd_postfix": "",
     "delete_cmd_prefix": "del ",
     "library": "var_list.py",
     "varRefreshCmd": "print(var_dic_list())"
    },
    "r": {
     "delete_cmd_postfix": ") ",
     "delete_cmd_prefix": "rm(",
     "library": "var_list.r",
     "varRefreshCmd": "cat(var_dic_list()) "
    }
   },
   "oldHeight": 499.44999999999993,
   "position": {
    "height": "521.05px",
    "left": "417px",
    "right": "20px",
    "top": "83px",
    "width": "671.2px"
   },
   "types_to_exclude": [
    "module",
    "function",
    "builtin_function_or_method",
    "instance",
    "_Feature"
   ],
   "varInspector_section_display": "block",
   "window_display": false
  }
 },
 "nbformat": 4,
 "nbformat_minor": 2
}
